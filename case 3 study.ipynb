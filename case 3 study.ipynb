{
 "cells": [
  {
   "cell_type": "code",
   "execution_count": 1,
   "id": "bf6d82a9-893d-458a-b300-88c218b9d417",
   "metadata": {},
   "outputs": [],
   "source": [
    "\n",
    "import jax.numpy as jnp\n",
    "from jax import grad, jit, vmap\n",
    "from jax import random\n",
    "from jax import jacfwd, jacrev\n",
    "\n",
    "from tqdm.notebook import tqdm\n",
    "from math import sqrt\n",
    "import matplotlib.pyplot as plt\n",
    "\n",
    "import numpy as np\n",
    "import warnings\n",
    "warnings.filterwarnings(\"error\")"
   ]
  },
  {
   "cell_type": "code",
   "execution_count": 327,
   "id": "29d4d698-bb8d-4507-8603-236064f7efde",
   "metadata": {},
   "outputs": [],
   "source": [
    "# Network parameters\n",
    "agent_num = 2\n",
    "d = 100\n",
    "\n",
    "\n",
    "data_num = 50\n",
    "# Parameters for functions\n",
    "a = np.random.randn(agent_num, data_num , d )/10\n",
    "b = np.random.randn(agent_num , data_num )/10\n",
    "center_shift = 0.1\n",
    "half_data = int(data_num/2)\n",
    "a[:,:half_data,:] +=center_shift\n",
    "b[:,:half_data] =1\n",
    "\n",
    "a[:,half_data:,:] -=center_shift\n",
    "b[:,half_data:] =-1\n",
    "\n",
    "# b[b >= 0] = 1\n",
    "# b[b < 0] = -1\n",
    "\n",
    "# print(-np.sum(b[:-2,:], axis=0))\n",
    "# print(b[:-1,:])\n",
    "# print(a)\n",
    "# print(b)\n",
    "# print(np.sum(b, axis=0))"
   ]
  },
  {
   "cell_type": "code",
   "execution_count": 328,
   "id": "43265aa6-9a39-4c53-868a-70435485c002",
   "metadata": {},
   "outputs": [],
   "source": [
    "averaging_matrix = np.ones((agent_num, agent_num))/agent_num\n",
    "\n",
    "mix_weight = 0.1\n",
    "mixing_matrix = np.eye(agent_num) *(1 - 2*mix_weight)\n",
    "for i in range(agent_num):\n",
    "    mixing_matrix[i,(i+1)%agent_num] = mixing_matrix[i,(i-1)%agent_num] = mix_weight\n",
    "# print(mixing_matrix)\n"
   ]
  },
  {
   "cell_type": "code",
   "execution_count": 329,
   "id": "18a9ab4b-e38a-4889-a70b-cc57df825aed",
   "metadata": {
    "jupyter": {
     "source_hidden": true
    },
    "tags": []
   },
   "outputs": [],
   "source": [
    "def global_function_logistic(x, a, b):\n",
    "    agent_num = a.shape[0]\n",
    "    data_num = a.shape[1]\n",
    "    function_val= 0\n",
    "    for i in range(agent_num):\n",
    "        ax = jnp.dot(a[i,:],x)\n",
    "        log_val = jnp.log(1 + jnp.exp(-b[i,:]*ax))\n",
    "        function_val+= jnp.sum(log_val)/data_num\n",
    "    return function_val/agent_num\n",
    "            \n",
    "def function_gradient_logistic_dist(x, a, b):\n",
    "    \n",
    "    agent_num = a.shape[0]\n",
    "    data_num = a.shape[1]    \n",
    "\n",
    "    gradient = np.zeros(x.shape)\n",
    "    for i in range(agent_num):\n",
    "        ax = a[i,:]@x[i]\n",
    "        exp_val = np.exp(-b[i,:]*ax)\n",
    "        temp_grad = exp_val/(1+exp_val)*(-b[i])\n",
    "        # temp_grad = exp_val/(1+exp_val)\n",
    "        # print(temp_grad.shape)\n",
    "        for j in range(data_num):\n",
    "            gradient[i] += temp_grad[j]*a[i,j]\n",
    "        gradient[i] = gradient[i]/data_num\n",
    "    return gradient"
   ]
  },
  {
   "cell_type": "code",
   "execution_count": 330,
   "id": "6ceb59a3-3a0b-4c7c-a650-0d23db14fd8e",
   "metadata": {},
   "outputs": [],
   "source": [
    "def centralized_function_logistic(x, a, b):\n",
    "    agent_num = a.shape[0]\n",
    "    data_num = a.shape[1]\n",
    "    function_val= 0\n",
    "    for i in range(agent_num):\n",
    "        ax = jnp.dot(a[i,:],x)\n",
    "        log_val = jnp.log(1 + jnp.exp(-b[i,:]*ax))\n",
    "        function_val+= jnp.sum(log_val)/data_num\n",
    "    return function_val/agent_num\n",
    "            \n",
    "def centralized_gradient_logistic(x, a, b):\n",
    "    agent_num = a.shape[0]\n",
    "    data_num = a.shape[1]    \n",
    "\n",
    "    gradient = np.zeros(x.shape)\n",
    "    for i in range(agent_num):\n",
    "        ax = a[i,:]@x\n",
    "        exp_val = np.exp(-b[i,:]*ax)\n",
    "        temp_grad = exp_val/(1+exp_val)*(-b[i])\n",
    "        # temp_grad = exp_val/(1+exp_val)\n",
    "        # print(temp_grad.shape)\n",
    "        for j in range(data_num):\n",
    "            gradient += temp_grad[j]*a[i,j]\n",
    "    gradient = gradient/(data_num*agent_num)\n",
    "    return gradient"
   ]
  },
  {
   "cell_type": "code",
   "execution_count": 437,
   "id": "e6edbb54-f39b-4780-b35f-3fa47ad303c9",
   "metadata": {},
   "outputs": [],
   "source": [
    "def centralized_hessian_logistic(x, a, b):\n",
    "    agent_num = a.shape[0]\n",
    "    data_num = a.shape[1]    \n",
    "\n",
    "    hessian = np.zeros((x.shape[0],x.shape[0]))\n",
    "    for i in range(agent_num):\n",
    "        ax = a[i,:]@x\n",
    "        exp_val = np.exp(-b[i,:]*ax)\n",
    "        # print(exp_val.shape)\n",
    "        temp_hess = (b[i]**2)*exp_val/(1+exp_val)**2\n",
    "        for j in range(data_num):\n",
    "            hessian += temp_hess[j]*np.outer(a[i,j],a[i,j])\n",
    "    hessian = hessian/(data_num*agent_num)\n",
    "    # print(hessian.shape)\n",
    "    return hessian"
   ]
  },
  {
   "cell_type": "code",
   "execution_count": 331,
   "id": "a6d72d08-c5c9-4ccf-b5d9-5b46fac4530a",
   "metadata": {},
   "outputs": [
    {
     "data": {
      "text/plain": [
       "[<matplotlib.lines.Line2D at 0x7f5eec598130>]"
      ]
     },
     "execution_count": 331,
     "metadata": {},
     "output_type": "execute_result"
    },
    {
     "data": {
      "image/png": "[encoded data removed]",
      "text/plain": [
       "<Figure size 432x288 with 1 Axes>"
      ]
     },
     "metadata": {
      "needs_background": "light"
     },
     "output_type": "display_data"
    }
   ],
   "source": [
    "# See if the function is correct\n",
    "\n",
    "x_base = np.linspace(-2,2,1000, endpoint=False)\n",
    "func_val = np.zeros((1000))\n",
    "x_real = np.random.randn(d)\n",
    "for i in range(1000):\n",
    "    x_real[3] = x_base[i]\n",
    "    func_val[i] = centralized_function_logistic(x_real, a, b)\n",
    "\n",
    "plt.plot(x_base, func_val)"
   ]
  },
  {
   "cell_type": "code",
   "execution_count": 394,
   "id": "4b5af57b-9b19-40d8-aa73-940eb815b7ea",
   "metadata": {},
   "outputs": [
    {
     "name": "stdout",
     "output_type": "stream",
     "text": [
      "0.6931472\n"
     ]
    },
    {
     "data": {
      "application/vnd.jupyter.widget-view+json": {
       "model_id": "67e1d3b9773248bd9d2d2ae12f5bb442",
       "version_major": 2,
       "version_minor": 0
      },
      "text/plain": [
       "  0%|          | 0/100000 [00:00<?, ?it/s]"
      ]
     },
     "metadata": {},
     "output_type": "display_data"
    }
   ],
   "source": [
    "x_star = np.zeros(d)\n",
    "loss_star = global_function_logistic(x_star, a, b)\n",
    "print(loss_star)\n",
    "\n",
    "\n",
    "x_init = np.zeros(d)\n",
    "iter_num = 100000\n",
    "lr = 0.1\n",
    "\n",
    "xk = np.zeros(d)\n",
    "xk1 =  np.zeros(d)\n",
    "GD_loss_x = np.zeros((iter_num))\n",
    "\n",
    "for k in tqdm(range( iter_num)):\n",
    "    gradient = centralized_gradient_logistic(xk-10, a,b)\n",
    "    xk1 = xk - lr*gradient\n",
    "    xk = np.copy(xk1)\n",
    "    GD_loss_x[k] = centralized_function_logistic(xk-10, a,b)\n",
    "# loss_star = 0"
   ]
  },
  {
   "cell_type": "code",
   "execution_count": 395,
   "id": "46ecdf9a-2f1c-4e64-81d9-9b4b16138f26",
   "metadata": {},
   "outputs": [
    {
     "name": "stdout",
     "output_type": "stream",
     "text": [
      "[12.00439205 13.05065757 10.46161926  9.95481818 11.73170995 10.34418895\n",
      " 11.41480667 11.03536972 10.04614911 11.1580974  10.73132209 10.97629375\n",
      " 11.57774146 12.23287825 11.21919331 11.53871995  9.48059017 10.16043816\n",
      " 11.52728422 11.29689982 10.88580291  9.81337855 11.89461697 11.6362615\n",
      " 11.57357073 10.97325491 10.14032015  9.82209149  9.72488607 10.2008221\n",
      " 10.08633507 10.99270114  9.64111604 11.75016097 10.36071049  9.80774786\n",
      " 12.27764078 11.68737377 10.72684155 11.33000866 10.48340235 10.66678801\n",
      " 12.32566436 13.45502719 10.72913613 11.81471718 11.30141911 10.68741838\n",
      " 10.97125433 10.54280116 10.63006712 10.95501466 10.47679736 10.73426296\n",
      " 11.59276082 10.30208434 10.55325212 11.8665237   8.85580246 12.08557975\n",
      " 11.75185658 11.98173939 10.06331239 12.06669295 10.89035389 11.4941082\n",
      " 11.89765926 11.30736449  9.69836889  9.72867551 12.56678159 10.692917\n",
      " 10.54815913 11.29821605  9.73629189 11.54247406 10.35346429  9.58524322\n",
      "  9.15811446 10.58533459 10.7283588   9.42222255 10.31031412 10.60213894\n",
      " 10.49490664 10.12282987 11.04187085 12.49022891 10.76457489 11.91639373\n",
      "  9.97490361 10.53453478 12.43582265 10.44129113 10.38261296 11.15018453\n",
      " 11.26796296 10.85717297 10.55649674  9.95695299]\n",
      "0.00012430814967956394\n"
     ]
    }
   ],
   "source": [
    "x_star = xk\n",
    "print(x_star)\n",
    "loss_star = np.min(GD_loss_x)\n",
    "print(loss_star)"
   ]
  },
  {
   "cell_type": "code",
   "execution_count": 439,
   "id": "872d007d-645c-4dfb-902e-6557267b5c1a",
   "metadata": {},
   "outputs": [
    {
     "name": "stdout",
     "output_type": "stream",
     "text": [
      "[[1.70215628e-06 1.02167205e-06 1.30658277e-06 ... 1.39410245e-06\n",
      "  1.27058787e-06 8.35433118e-07]\n",
      " [1.02167205e-06 2.90700904e-06 1.81661054e-06 ... 1.45377683e-06\n",
      "  1.60446518e-06 6.31857560e-07]\n",
      " [1.30658277e-06 1.81661054e-06 2.83434270e-06 ... 1.74420959e-06\n",
      "  1.92897485e-06 6.22132410e-07]\n",
      " ...\n",
      " [1.39410245e-06 1.45377683e-06 1.74420959e-06 ... 3.13438019e-06\n",
      "  2.08106873e-06 6.55440410e-07]\n",
      " [1.27058787e-06 1.60446518e-06 1.92897485e-06 ... 2.08106873e-06\n",
      "  2.82993095e-06 5.87703696e-07]\n",
      " [8.35433118e-07 6.31857560e-07 6.22132410e-07 ... 6.55440410e-07\n",
      "  5.87703696e-07 1.76381035e-06]]\n"
     ]
    }
   ],
   "source": [
    "# derivative_fn = grad(centralized_function_logistic)\n",
    "# print(derivative_fn(x_star-10, a,b))\n",
    "\n",
    "\n",
    "\n",
    "\n",
    "# Hessian_fn = jacfwd(jacrev(centralized_function_logistic, argnums=0), argnums=0)\n",
    "\n",
    "# hessian_j = Hessian_fn(x_star-10, a,b)\n",
    "# print(hessian_j)\n",
    "\n",
    "hessian_x = centralized_hessian_logistic(x_star-10, a,b)\n",
    "print(hessian_x)\n",
    "\n",
    "# x_0 = np.zeros((agent_num, d))\n",
    "# print(np.mean(function_gradient_logistic_dist(x_0, a, b), axis=0))"
   ]
  },
  {
   "cell_type": "code",
   "execution_count": 530,
   "id": "976da9c3-7081-4a90-a508-58460f14768a",
   "metadata": {},
   "outputs": [
    {
     "data": {
      "application/vnd.jupyter.widget-view+json": {
       "model_id": "3b8dbacf34d14deebc9cef6ff222976f",
       "version_major": 2,
       "version_minor": 0
      },
      "text/plain": [
       "  0%|          | 0/10000 [00:00<?, ?it/s]"
      ]
     },
     "metadata": {},
     "output_type": "display_data"
    }
   ],
   "source": [
    "# Centralized GD\n",
    "x_init = np.ones(d)*10\n",
    "iter_num = 10000\n",
    "lr = 0.1\n",
    "\n",
    "xk = np.ones(d)*10\n",
    "xk1 =  np.ones(d)*10\n",
    "GD_loss_x = np.zeros((iter_num))\n",
    "\n",
    "for k in tqdm(range( iter_num)):\n",
    "    gradient = centralized_gradient_logistic(xk-10, a,b)\n",
    "    xk1 = xk - lr*gradient\n",
    "    xk = np.copy(xk1)\n",
    "    GD_loss_x[k] = global_function_logistic(xk-10, a,b)\n",
    "    "
   ]
  },
  {
   "cell_type": "code",
   "execution_count": 499,
   "id": "91255022-daaf-43a9-b2e4-b51605faee34",
   "metadata": {
    "tags": []
   },
   "outputs": [
    {
     "data": {
      "application/vnd.jupyter.widget-view+json": {
       "model_id": "47d32324e5df4d4cbde5667beca12a41",
       "version_major": 2,
       "version_minor": 0
      },
      "text/plain": [
       "  0%|          | 0/10000 [00:00<?, ?it/s]"
      ]
     },
     "metadata": {},
     "output_type": "display_data"
    }
   ],
   "source": [
    "# Centralized MD\n",
    "x_init = np.ones(d)*10\n",
    "iter_num = 10000\n",
    "lr = 0.1\n",
    "\n",
    "xk = np.ones(d)*10\n",
    "xk1 =  np.ones(d)*10\n",
    "zk =  np.ones(d)*10\n",
    "zk1 =  np.ones(d)*10\n",
    "MD_loss_x = np.zeros((iter_num))\n",
    "\n",
    "for k in tqdm(range( iter_num)):\n",
    "    gradient = centralized_gradient_logistic(xk-10, a,b)\n",
    "    zk = np.log(np.maximum(xk,1e-10))+1\n",
    "#to make sure x is greater or equal to 0+\n",
    "    zk1 = zk - lr*gradient\n",
    "    # print(np.max(zk1))\n",
    "    xk1 = np.exp(zk1)/np.exp(1)\n",
    "    xk = np.copy(xk1)\n",
    "    zk = np.copy(xk1)\n",
    "    MD_loss_x[k] = global_function_logistic(xk-10, a,b)\n",
    "    "
   ]
  },
  {
   "cell_type": "code",
   "execution_count": 488,
   "id": "a8b4707d-731c-4a34-8d48-4ee65e1af3c2",
   "metadata": {
    "tags": []
   },
   "outputs": [
    {
     "name": "stdout",
     "output_type": "stream",
     "text": [
      "[4.70132947e-01 3.43586683e-01 2.66690195e-01 ... 1.12220281e-04\n",
      " 1.12209549e-04 1.12195252e-04]\n"
     ]
    }
   ],
   "source": [
    "# print(MD_loss_x)"
   ]
  },
  {
   "cell_type": "code",
   "execution_count": 440,
   "id": "5ba9f9f6-5528-4d00-9db8-5edd4e276c90",
   "metadata": {},
   "outputs": [
    {
     "data": {
      "application/vnd.jupyter.widget-view+json": {
       "model_id": "32208e6c598e4496a93120ed72a1a1a7",
       "version_major": 2,
       "version_minor": 0
      },
      "text/plain": [
       "  0%|          | 0/10000 [00:00<?, ?it/s]"
      ]
     },
     "metadata": {},
     "output_type": "display_data"
    }
   ],
   "source": [
    "# Centralized QR Newton\n",
    "\n",
    "x_init = np.ones(d)*10\n",
    "iter_num = 10000\n",
    "lr = 0.1\n",
    "\n",
    "xk = np.ones(d)*10\n",
    "xk1 =  np.ones(d)*10\n",
    "QR_loss_x = np.zeros((iter_num))\n",
    "\n",
    "for k in tqdm(range( iter_num)):\n",
    "    gradient = centralized_gradient_logistic(xk-10, a,b)\n",
    "    hessian_x = centralized_hessian_logistic(xk-10, a,b)\n",
    "    \n",
    "    A_k = np.sqrt((5)*np.linalg.norm(gradient))\n",
    "    # print(A_k)\n",
    "    delta = np.array(np.linalg.inv(hessian_x+A_k*np.eye(d))@gradient)\n",
    "    # delta[delta>1] = 1\n",
    "    # delta[delta<-1] = -1\n",
    "    \n",
    "    xk1 = xk - delta\n",
    "    xk = np.copy(xk1)\n",
    "    QR_loss_x[k] = global_function_logistic(xk-10, a,b)\n",
    "    "
   ]
  },
  {
   "cell_type": "code",
   "execution_count": 390,
   "id": "aee61316-c1f5-4bea-8494-4d75f9d3a4c4",
   "metadata": {
    "jupyter": {
     "source_hidden": true
    },
    "tags": []
   },
   "outputs": [],
   "source": [
    "# # Centralized CR Newton\n",
    "# inner_iter = 10000\n",
    "# x_init = np.ones(d)*10\n",
    "# iter_num = 1000\n",
    "# lr = 0.1\n",
    "\n",
    "# xk = np.ones(d)*10\n",
    "# xk1 =  np.ones(d)*10\n",
    "# CR_loss_x = np.zeros((iter_num))\n",
    "\n",
    "# for k in tqdm(range( iter_num)):\n",
    "#     gradient = derivative_fn(xk-10, a,b)\n",
    "#     hessian_x = Hessian_fn(xk-10, a,b)\n",
    "    \n",
    "#     direction = -np.linalg.inv(hessian_x)@gradient\n",
    "#     first_order_term = gradient.T@direction\n",
    "#     second_order_term = direction.T@hessian_x@direction\n",
    "#     third_order_term = np.linalg.norm(direction)**3\n",
    "#     # print(first_order_term)\n",
    "#     # print(second_order_term)\n",
    "#     # print(third_order_term)\n",
    "#     # print()\n",
    "#     alpha = 1\n",
    "#     # we want best alpha such that minimizes a*first + a^2*second + a^3* third\n",
    "#     for t in range(inner_iter):\n",
    "#         alpha_grad = first_order_term + alpha*second_order_term + alpha*np.abs(alpha)*third_order_term\n",
    "#         alpha = alpha - 0.0*alpha_grad\n",
    "#         # print(alpha)\n",
    "    \n",
    "#     xk1 = xk + alpha*direction\n",
    "#     xk = np.copy(xk1)\n",
    "#     CR_loss_x[k] = global_function_logistic(xk-10, a,b)\n",
    "#     print(alpha)\n",
    "#     input()"
   ]
  },
  {
   "cell_type": "code",
   "execution_count": 441,
   "id": "0383fc43-88ff-4474-b931-b8e05c13196a",
   "metadata": {
    "tags": []
   },
   "outputs": [
    {
     "data": {
      "application/vnd.jupyter.widget-view+json": {
       "model_id": "857f9f0959ae486192cc5f4f9cfda4ad",
       "version_major": 2,
       "version_minor": 0
      },
      "text/plain": [
       "  0%|          | 0/10000 [00:00<?, ?it/s]"
      ]
     },
     "metadata": {},
     "output_type": "display_data"
    }
   ],
   "source": [
    "# Centralized CR Newton\n",
    "inner_iter = 100\n",
    "x_init = np.ones(d)*10\n",
    "iter_num = 10000\n",
    "lr = 0.1\n",
    "rho = 1\n",
    "xk = np.ones(d)*10\n",
    "xk1 =  np.ones(d)*10\n",
    "CR_loss_x = np.zeros((iter_num))\n",
    "\n",
    "for k in tqdm(range( iter_num)):\n",
    "    gradient = centralized_gradient_logistic(xk-10, a,b)\n",
    "    hessian_x = centralized_hessian_logistic(xk-10, a,b)\n",
    "    \n",
    "    xk1 = np.copy(xk)\n",
    "    # we want best alpha such that minimizes a*first + a^2*second + a^3* third\n",
    "    for t in range(inner_iter):\n",
    "        x_grad = gradient + hessian_x@(xk1 - xk)+ 0.5*rho*np.linalg.norm(xk1 - xk)*(xk1 - xk)\n",
    "        xk1 = xk1 - x_grad\n",
    "        # print(alpha)\n",
    "    \n",
    "    xk = np.copy(xk1)\n",
    "    CR_loss_x[k] = global_function_logistic(xk-10, a,b)\n",
    "    # print(np.linalg.norm(x_grad))\n",
    "    # input()"
   ]
  },
  {
   "cell_type": "code",
   "execution_count": 514,
   "id": "4352c4b7-1f60-4e82-bb6e-d8a24ad30ca5",
   "metadata": {
    "tags": []
   },
   "outputs": [
    {
     "data": {
      "application/vnd.jupyter.widget-view+json": {
       "model_id": "48e0977122494e3abb6af2b6d3e164bb",
       "version_major": 2,
       "version_minor": 0
      },
      "text/plain": [
       "  0%|          | 0/10000 [00:00<?, ?it/s]"
      ]
     },
     "metadata": {},
     "output_type": "display_data"
    }
   ],
   "source": [
    "# Centralized Bregman Newton\n",
    "inner_iter = 100\n",
    "x_init = np.ones(d)*10\n",
    "iter_num = 10000\n",
    "lr = 0.1\n",
    "\n",
    "xk = np.ones(d)*10\n",
    "xk1 =  np.ones(d)*10\n",
    "BR_loss_x = np.zeros((iter_num))\n",
    "Ak = 0\n",
    "for k in tqdm(range( iter_num)):\n",
    "    gradient = centralized_gradient_logistic(xk-10, a,b)\n",
    "    hessian_x = centralized_hessian_logistic(xk-10, a,b)\n",
    "    z_xk = np.log(np.maximum(xk,1e-10))+1\n",
    "    y_opt = np.copy(xk)\n",
    "    z_y = np.log(np.maximum(y_opt,1e-10))+1\n",
    "    # we use gd to find it\n",
    "    for t in range(inner_iter):\n",
    "        \n",
    "        y_grad = gradient+ hessian_x@(y_opt-xk) + Ak*(z_y - z_xk)\n",
    "        z_y = z_y - 0.1*y_grad\n",
    "        y_opt = np.exp(z_y)/np.exp(1)\n",
    "    \n",
    "    xk1 = y_opt\n",
    "    z_y = np.log(np.maximum(y_opt,1e-10))+1\n",
    "    gradient_new = centralized_gradient_logistic(xk1-10, a,b)\n",
    "    gk = np.linalg.norm(gradient_new - gradient - hessian_x@(y_opt-xk) - Ak*(z_y - z_xk))\n",
    "    Ak = 1*np.sqrt(5*gk)\n",
    "    xk = np.copy(xk1)\n",
    "    BR_loss_x[k] = global_function_logistic(xk-10, a,b)"
   ]
  },
  {
   "cell_type": "code",
   "execution_count": 536,
   "id": "74fe7a2d-b3dc-44d4-9a64-4c4c31d65ca6",
   "metadata": {
    "tags": []
   },
   "outputs": [
    {
     "data": {
      "application/vnd.jupyter.widget-view+json": {
       "model_id": "31ac724e5adc438285df79b77e425884",
       "version_major": 2,
       "version_minor": 0
      },
      "text/plain": [
       "  0%|          | 0/10000 [00:00<?, ?it/s]"
      ]
     },
     "metadata": {},
     "output_type": "display_data"
    }
   ],
   "source": [
    "# Centralized Bregman Newton for another bregman choice, Burg's entropy\n",
    "inner_iter = 100\n",
    "x_init = np.ones(d)*10\n",
    "iter_num = 10000\n",
    "lr = 0.1\n",
    "\n",
    "xk = np.ones(d)*10\n",
    "xk1 =  np.ones(d)*10\n",
    "BR_BE_loss_x = np.zeros((iter_num))\n",
    "Ak = 0\n",
    "for k in tqdm(range( iter_num)):\n",
    "    gradient = centralized_gradient_logistic(xk-10, a,b)\n",
    "    hessian_x = centralized_hessian_logistic(xk-10, a,b)\n",
    "    z_xk = -1/np.maximum(xk,1e-30)\n",
    "    y_opt = np.copy(xk)\n",
    "    z_y = -1/np.maximum(y_opt,1e-30)\n",
    "    # we use gd to find it\n",
    "    for t in range(inner_iter):\n",
    "        \n",
    "        y_grad = gradient+ hessian_x@(y_opt-xk) + Ak*(z_y - z_xk)\n",
    "        z_y = z_y - 0.1*y_grad\n",
    "        y_opt = -1/np.minimum(z_y,-1e-30)\n",
    "        # print(y_grad)\n",
    "        # print(z_y)\n",
    "        # input()\n",
    "    xk1 = y_opt\n",
    "    z_y = -1/np.maximum(y_opt,1e-30)\n",
    "    gradient_new = centralized_gradient_logistic(xk1-10, a,b)\n",
    "    gk = np.linalg.norm(gradient_new - gradient - hessian_x@(y_opt-xk) - Ak*(z_y - z_xk))\n",
    "    Ak = 1*np.sqrt(5*gk)\n",
    "    xk = np.copy(xk1)\n",
    "    BR_BE_loss_x[k] = global_function_logistic(xk-10, a,b)\n",
    "    # print()"
   ]
  },
  {
   "cell_type": "code",
   "execution_count": 568,
   "id": "a2192f86-06c4-45a1-b1f7-6291af3fe62d",
   "metadata": {},
   "outputs": [
    {
     "data": {
      "application/vnd.jupyter.widget-view+json": {
       "model_id": "9bfdbe7af20b499ea566cd003c3784e7",
       "version_major": 2,
       "version_minor": 0
      },
      "text/plain": [
       "  0%|          | 0/10000 [00:00<?, ?it/s]"
      ]
     },
     "metadata": {},
     "output_type": "display_data"
    }
   ],
   "source": [
    "# Centralized QR Newton with acceleration\n",
    "\n",
    "x_init = np.ones(d)*10\n",
    "iter_num = 10000\n",
    "lr = 0.1\n",
    "L_f = 15\n",
    "xk = np.ones(d)*10\n",
    "xk1 =  np.ones(d)*10\n",
    "QR_Accel_loss_x = np.zeros((iter_num))\n",
    "B_k = 0\n",
    "b_k1 = 0\n",
    "for k in tqdm(range( iter_num)):\n",
    "    gradient = centralized_gradient_logistic(xk-10, a,b)\n",
    "    hessian_x = centralized_hessian_logistic(xk-10, a,b)\n",
    "    b_k1 = (k+1)**2/(9*L_f)\n",
    "    B_k1 = B_k+b_k1\n",
    "    A_k = np.sqrt((L_f/3)*np.linalg.norm(gradient))\n",
    "    # print(A_k)\n",
    "    gradient = gradient*B_k1\n",
    "    hessian_x = hessian_x*B_k1\n",
    "    delta = np.array(np.linalg.inv(hessian_x+A_k*np.eye(d))@gradient)\n",
    "    # delta[delta>1] = 1\n",
    "    # delta[delta<-1] = -1\n",
    "    \n",
    "    xk1 = xk - delta\n",
    "    xk = np.copy(xk1)\n",
    "    # xk = (b_k1*xk1+B_k*xk)/B_k1\n",
    "    B_k = B_k1\n",
    "    QR_Accel_loss_x[k] = global_function_logistic(xk-10, a,b)\n",
    "    "
   ]
  },
  {
   "cell_type": "code",
   "execution_count": 514,
   "id": "779ecd12-9c35-4847-9169-6a257f548f4c",
   "metadata": {
    "tags": []
   },
   "outputs": [
    {
     "data": {
      "application/vnd.jupyter.widget-view+json": {
       "model_id": "48e0977122494e3abb6af2b6d3e164bb",
       "version_major": 2,
       "version_minor": 0
      },
      "text/plain": [
       "  0%|          | 0/10000 [00:00<?, ?it/s]"
      ]
     },
     "metadata": {},
     "output_type": "display_data"
    }
   ],
   "source": [
    "# Centralized Bregman Newton accelerated\n",
    "inner_iter = 100\n",
    "x_init = np.ones(d)*10\n",
    "iter_num = 10000\n",
    "lr = 0.1\n",
    "vk = np.ones(d)*10\n",
    "\n",
    "xk = np.ones(d)*10\n",
    "xk1 =  np.ones(d)*10\n",
    "BR_Accel_loss_x = np.zeros((iter_num))\n",
    "Ak = 0\n",
    "B_k = 0\n",
    "b_k1 = 0\n",
    "for k in tqdm(range( iter_num)):\n",
    "    b_k1 = (k+1)**2/(9*L_f)\n",
    "    B_k1 = B_k+b_k1\n",
    "    gradient = centralized_gradient_logistic(xk-10, a,b)\n",
    "    hessian_x = centralized_hessian_logistic(xk-10, a,b)\n",
    "    gradient = gradient*B_k1\n",
    "    hessian_x = hessian_x*B_k1\n",
    "    z_xk = np.log(np.maximum(xk,1e-10))+1\n",
    "    y_opt = np.copy(xk)\n",
    "    z_y = np.log(np.maximum(y_opt,1e-10))+1\n",
    "    # we use gd to find it\n",
    "    for t in range(inner_iter):\n",
    "        \n",
    "        y_grad = gradient+ hessian_x@(y_opt-xk) + Ak*(z_y - z_xk)\n",
    "        z_y = z_y - 0.1*y_grad\n",
    "        y_opt = np.exp(z_y)/np.exp(1)\n",
    "    \n",
    "    xk1 = y_opt\n",
    "    vk = (B_k1 *xk1 - B_k*xk)/b_k1\n",
    "    z_y = np.log(np.maximum(xk1,1e-10))+1\n",
    "    gradient_new = centralized_gradient_logistic(vk-10, a,b)\n",
    "    gk = np.linalg.norm(b_k1*gradient_new - gradient - hessian_x@(y_opt-xk) - Ak*(z_y - z_xk))\n",
    "    Ak = 1*np.sqrt(5*gk)\n",
    "    xk = np.copy(xk1)\n",
    "    BR_Accel_loss_x[k] = global_function_logistic(xk-10, a,b)"
   ]
  },
  {
   "cell_type": "code",
   "execution_count": 569,
   "id": "9f35b645-5cb1-4afb-bd45-37af321c07da",
   "metadata": {
    "tags": []
   },
   "outputs": [
    {
     "data": {
      "text/plain": [
       "[<matplotlib.lines.Line2D at 0x7f5e71e6dd00>]"
      ]
     },
     "execution_count": 569,
     "metadata": {},
     "output_type": "execute_result"
    },
    {
     "data": {
      "image/png": "[encoded data removed]",
      "text/plain": [
       "<Figure size 432x288 with 1 Axes>"
      ]
     },
     "metadata": {
      "needs_background": "light"
     },
     "output_type": "display_data"
    }
   ],
   "source": [
    "plt.plot(QR_Accel_loss_x)"
   ]
  },
  {
   "cell_type": "code",
   "execution_count": 243,
   "id": "151c8dd1-2243-4d74-a344-ea8ba9f961e2",
   "metadata": {
    "jupyter": {
     "source_hidden": true
    },
    "tags": []
   },
   "outputs": [],
   "source": [
    "# #start the algorithm, this block is normal dgd\n",
    "# x_0 = np.random.rand(agent_num, d)\n",
    "\n",
    "# #first is gradient Descent\n",
    "# iter_num = 100000\n",
    "# lr = 0.1\n",
    "# time_int = 0.01\n",
    "\n",
    "# x_k = np.zeros((agent_num,d))\n",
    "# x_k1 = np.zeros((agent_num,d))\n",
    "\n",
    "# z_k = np.zeros((agent_num,d))\n",
    "# z_k1 = np.zeros((agent_num,d))\n",
    "# # x_k2 = np.zeros((agent_num,d))\n",
    "# y_k = np.zeros((agent_num,d))\n",
    "# y_k1 = np.zeros((agent_num,d))\n",
    "\n",
    "# DGD_x_mean = np.zeros((iter_num,d))\n",
    "\n",
    "# DGD_x_dist = np.zeros((iter_num, agent_num))\n",
    "\n",
    "# DGD_loss_x_global = np.zeros((iter_num, agent_num))\n",
    "\n",
    "# lambda_0 = 0\n",
    "# lambda_k = 0\n",
    "# lambda_k1 = 0\n",
    "\n",
    "# # simulation centralized\n",
    "# for agent in range(agent_num):\n",
    "#     x_k[agent,:] = np.mean(x_0, axis=0)\n",
    "# #\n",
    "\n",
    "# # x_k = np.copy(x_0)\n",
    "# z_k =  np.copy(x_k)\n",
    "\n",
    "# lambda_k = lambda_0\n",
    "# for k in tqdm(range( iter_num)):\n",
    "#     lambda_k1 = (1+np.sqrt(1+ 4*lambda_k**2))/2\n",
    "#     gamma = (1-lambda_k)/(lambda_k1)\n",
    "#     lambda_k = lambda_k1\n",
    "#     gradient_all = function_gradient_case_3(x_k, a, b) \n",
    "    \n",
    "#     gradient_avg =  np.mean(gradient_all, axis=0)\n",
    "#     for i in range(agent_num):\n",
    "#         y_k1[i,:] = y_k[i,:] + time_int*(x_k[(i+1)%agent_num,:]+x_k[(i-1)%agent_num,:] - 2*x_k[i,:])\n",
    "#         z_k1[i,:] = x_k[i,:] - time_int*(lr*gradient_avg - y_k[i,:] - (x_k[(i+1)%agent_num,:]+x_k[(i-1)%agent_num,:] - 2*x_k[i,:]))\n",
    "#         x_k1[i,:] = z_k1[i,:]\n",
    "#         # x_k1[i,:] = (1-gamma)*z_k1[i,:] + gamma*z_k[i,:]\n",
    "#     z_k = np.copy(z_k1)\n",
    "#     x_k = np.copy(x_k1)\n",
    "#     y_k = np.copy(y_k1)\n",
    "    \n",
    "#     x_bar = np.mean(x_k, axis=0)\n",
    "    \n",
    "#     DGD_x_mean[k,:] = x_bar\n",
    "#     for agent in range(agent_num):\n",
    "        \n",
    "#         DGD_x_dist[k, agent] = np.linalg.norm(x_k[agent,:]-x_bar)\n",
    "#         DGD_loss_x_global[k, agent] = global_function_case_3(x_k[agent,:], a, b)\n",
    "    \n",
    "    "
   ]
  },
  {
   "cell_type": "code",
   "execution_count": 334,
   "id": "9bffe0a8-f8d3-4540-8f0b-a3e51ab11702",
   "metadata": {
    "jupyter": {
     "source_hidden": true
    },
    "tags": []
   },
   "outputs": [
    {
     "data": {
      "application/vnd.jupyter.widget-view+json": {
       "model_id": "3e3c327a04284cef85695813d0eee613",
       "version_major": 2,
       "version_minor": 0
      },
      "text/plain": [
       "  0%|          | 0/100000 [00:00<?, ?it/s]"
      ]
     },
     "metadata": {},
     "output_type": "display_data"
    }
   ],
   "source": [
    "#start the algorithm\n",
    "x_0 = np.random.rand(agent_num, d)\n",
    "\n",
    "#first is gradient Descent\n",
    "iter_num = 100000\n",
    "lr = 0.1\n",
    "time_int = 0.1\n",
    "s = time_int\n",
    "sqrt_s = np.sqrt(s)\n",
    "\n",
    "x_k = np.zeros((agent_num,d))\n",
    "x_k1 = np.zeros((agent_num,d))\n",
    "\n",
    "z_k = np.zeros((agent_num,d))\n",
    "z_k1 = np.zeros((agent_num,d))\n",
    "# x_k2 = np.zeros((agent_num,d))\n",
    "y_k = np.zeros((agent_num,d))\n",
    "y_k1 = np.zeros((agent_num,d))\n",
    "\n",
    "x_mean = np.zeros((iter_num,d))\n",
    "x_dist = np.zeros((iter_num, agent_num))\n",
    "loss_x_global = np.zeros((iter_num, agent_num))\n",
    "\n",
    "lambda_0 = 0\n",
    "lambda_k = 0\n",
    "lambda_k1 = 0\n",
    "\n",
    "x_k = np.copy(x_0)\n",
    "z_k =  np.copy(x_k)\n",
    "\n",
    "lambda_k = lambda_0\n",
    "for k in tqdm(range( iter_num)):\n",
    "    lambda_k1 = (1+np.sqrt(1+ 4*lambda_k**2))/2\n",
    "    gamma = (1-lambda_k)/(lambda_k1)\n",
    "    lambda_k = lambda_k1\n",
    "    gradient_all = function_gradient_case_3(x_k, a, b)\n",
    "    # gradient_all = np.zeros(z_k.shape)\n",
    "    for i in range(agent_num):\n",
    "        y_k1[i,:] = y_k[i,:] + s*(1/agent_num)*(2*z_k[i,:]-z_k[(i+1)%agent_num,:]-z_k[(i-1)%agent_num,:] )\n",
    "        # z_k1[i,:] = x_k[i,:] - s*(lr*gradient_all[i,:] +  y_k[i,:]+ (1/agent_num)*(2*z_k[i,:] - z_k[(i+1)%agent_num,:]+z_k[(i-1)%agent_num,:] ))\n",
    "        z_k1[i,:] = x_k[i,:] - s*(lr*gradient_all[i,:] +  y_k[i,:]+ 10*(1/agent_num)*(2*z_k[i,:] - z_k[(i+1)%agent_num,:]-z_k[(i-1)%agent_num,:] ))\n",
    "        # x_k1[i,:] = z_k1[i,:]\n",
    "        # x_k1[i,:] = (1-gamma)*z_k1[i,:] + gamma*z_k[i,:] #-  time_int*(0- (x_k[(i+1)%agent_num,:]+x_k[(i-1)%agent_num,:] - 2*x_k[i,:]) )\n",
    "        z_diff = z_k1 - z_k\n",
    "        x_k1[i,:] = z_k1[i,:] + (1 - (3/(k+1)) )*(z_diff[i,:]) -  10*sqrt_s*(1/agent_num)*( 2*z_diff[i,:]-z_diff[(i-1)%agent_num,:] -z_diff[(i+1)%agent_num,:] ) #z_k1[i,:] + (1 - (3/(k+1)) )*(z_diff[i,:]) \n",
    "        \n",
    "        # z_bar = np.mean(z_k, axis=0)\n",
    "        # z1_bar = np.mean(z_k1, axis=0)\n",
    "        # x_k1[i,:] = z_k1[i,:] + (1 - (3/(k+1)) )*(z_k1[i,:] - z_k[i,:]) -  2*sqrt_s*(z_k1[i,:] - z_k[i,:])\n",
    "        # x_k1[i,:] = z_k1[i,:] + (1 - (3/(k+1)) )*(z_k1[i,:] - z_k[i,:]) -  2*sqrt_s*(z_k1[i,:] - z_k[i,:])\n",
    "        # x_k1[i,:] = z_k1[i,:] -gamma*(z_k1[i,:] - z_k[i,:]) +  time_int*( (z_k1[(i-1)%agent_num,:] - z_k[(i-1)%agent_num,:]+z_k1[(i+1)%agent_num,:] - z_k[(i+1)%agent_num,:] - 2*(z_k1[i,:] - z_k[i,:])) )\n",
    "    z_k = np.copy(z_k1)\n",
    "    x_k = np.copy(x_k1)\n",
    "    y_k = np.copy(y_k1)\n",
    "    \n",
    "    x_bar = np.mean(x_k, axis=0)\n",
    "    x_mean[k,:] = x_bar\n",
    "    for agent in range(agent_num):\n",
    "        x_dist[k, agent] = np.linalg.norm(x_k[agent,:]-x_bar)\n",
    "        loss_x_global[k, agent] = global_function_case_3(x_k[agent,:], a, b)\n",
    "        \n",
    "        \n",
    "        \n",
    "    \n",
    "    "
   ]
  },
  {
   "cell_type": "code",
   "execution_count": 442,
   "id": "b1ddc4e1-a782-4dfa-83f1-50843da3e950",
   "metadata": {
    "jupyter": {
     "source_hidden": true
    },
    "tags": []
   },
   "outputs": [
    {
     "data": {
      "application/vnd.jupyter.widget-view+json": {
       "model_id": "6d118288dc05416fbfdf57a101c95d87",
       "version_major": 2,
       "version_minor": 0
      },
      "text/plain": [
       "  0%|          | 0/100000 [00:00<?, ?it/s]"
      ]
     },
     "metadata": {},
     "output_type": "display_data"
    }
   ],
   "source": [
    "#testing\n",
    "\n",
    "\n",
    "\n",
    "x_0 = np.random.rand(agent_num, d)\n",
    "\n",
    "#first is gradient Descent\n",
    "iter_num = 100000\n",
    "lr = 0.1\n",
    "time_int = 0.01\n",
    "s = time_int\n",
    "sqrt_s = np.sqrt(s)\n",
    "\n",
    "x_k = np.zeros((agent_num,d))\n",
    "x_k1 = np.zeros((agent_num,d))\n",
    "\n",
    "z_k = np.zeros((agent_num,d))\n",
    "z_k1 = np.zeros((agent_num,d))\n",
    "# x_k2 = np.zeros((agent_num,d))\n",
    "y_k = np.zeros((agent_num,d))\n",
    "y_k1 = np.zeros((agent_num,d))\n",
    "\n",
    "w_k = np.zeros((agent_num,d))\n",
    "w_k1 = np.zeros((agent_num,d))\n",
    "\n",
    "x_mean = np.zeros((iter_num,d))\n",
    "x_dist = np.zeros((iter_num, agent_num))\n",
    "loss_x_global = np.zeros((iter_num, agent_num))\n",
    "\n",
    "lambda_0 = 0\n",
    "lambda_k = 0\n",
    "lambda_k1 = 0\n",
    "\n",
    "x_k = np.copy(x_0)\n",
    "z_k =  np.copy(x_k)\n",
    "\n",
    "lambda_k = lambda_0\n",
    "for k in tqdm(range( iter_num)):\n",
    "    lambda_k1 = (1+np.sqrt(1+ 4*lambda_k**2))/2\n",
    "    gamma = (1-lambda_k)/(lambda_k1)\n",
    "    lambda_k = lambda_k1\n",
    "    gradient_all = function_gradient_case_3(x_k, a, b)\n",
    "    \n",
    "    # gradient_all = averaging_matrix@gradient_all\n",
    "    # gradient_all = np.zeros(z_k.shape)\n",
    "    for i in range(agent_num):\n",
    "        y_k1[i,:] = y_k[i,:] + s*(1/agent_num)*(2*x_k[i,:]-x_k[(i+1)%agent_num,:]-x_k[(i-1)%agent_num,:] )\n",
    "        # z_k1[i,:] = x_k[i,:] - s*(lr*gradient_all[i,:] +  y_k[i,:]+ (1/agent_num)*(2*z_k[i,:] - z_k[(i+1)%agent_num,:]+z_k[(i-1)%agent_num,:] ))\n",
    "    # y_k1 = averaging_matrix@y_k1\n",
    "    for i in range(agent_num):\n",
    "        z_k1[i,:] = x_k[i,:] - s*(lr*gradient_all[i,:] +  y_k[i,:]+ 10*(1/agent_num)*(2*x_k[i,:] - x_k[(i+1)%agent_num,:]-x_k[(i-1)%agent_num,:] ))\n",
    "        # x_k1[i,:] = z_k1[i,:]\n",
    "        # x_k1[i,:] = (1-gamma)*z_k1[i,:] + gamma*z_k[i,:] #-  time_int*(0- (x_k[(i+1)%agent_num,:]+x_k[(i-1)%agent_num,:] - 2*x_k[i,:]) )\n",
    "    for i in range(agent_num):\n",
    "\n",
    "        z_diff = z_k1 - z_k\n",
    "        w_k1[i,:] = z_k1[i,:] + (1 - (3/(k+1)) )*(z_diff[i,:]) -  10*sqrt_s*(1/agent_num)*( 2*z_diff[i,:]-z_diff[(i-1)%agent_num,:] -z_diff[(i+1)%agent_num,:] ) #z_k1[i,:] + (1 - (3/(k+1)) )*(z_diff[i,:]) \n",
    "        \n",
    "        \n",
    "    for i in range(agent_num):\n",
    "        x_k1[i,:] = w_k1[i,:] #- s* (2*w_k1[i,:]-w_k1[(i+1)%agent_num,:]-w_k1[(i-1)%agent_num,:])\n",
    "    # x_k1 = mixing_matrix@x_k1\n",
    "        # z_bar = np.mean(z_k, axis=0)\n",
    "        # z1_bar = np.mean(z_k1, axis=0)\n",
    "        # x_k1[i,:] = z_k1[i,:] + (1 - (3/(k+1)) )*(z_k1[i,:] - z_k[i,:]) -  2*sqrt_s*(z_k1[i,:] - z_k[i,:])\n",
    "        # x_k1[i,:] = z_k1[i,:] + (1 - (3/(k+1)) )*(z_k1[i,:] - z_k[i,:]) -  2*sqrt_s*(z_k1[i,:] - z_k[i,:])\n",
    "        # x_k1[i,:] = z_k1[i,:] -gamma*(z_k1[i,:] - z_k[i,:]) +  time_int*( (z_k1[(i-1)%agent_num,:] - z_k[(i-1)%agent_num,:]+z_k1[(i+1)%agent_num,:] - z_k[(i+1)%agent_num,:] - 2*(z_k1[i,:] - z_k[i,:])) )\n",
    "    z_k = np.copy(z_k1)\n",
    "    x_k = np.copy(x_k1)\n",
    "    y_k = np.copy(y_k1)\n",
    "    w_k = np.copy(w_k1)\n",
    "    \n",
    "    \n",
    "    \n",
    "    \n",
    "    x_bar = np.mean(x_k, axis=0)\n",
    "    x_mean[k,:] = x_bar\n",
    "    for agent in range(agent_num):\n",
    "        x_dist[k, agent] = np.linalg.norm(x_k[agent,:]-x_bar)\n",
    "        loss_x_global[k, agent] = global_function_case_3(x_k[agent,:], a, b)\n",
    "        \n",
    "        \n",
    "        \n",
    "    \n",
    "    "
   ]
  },
  {
   "cell_type": "code",
   "execution_count": 474,
   "id": "f2139251-131f-4dd4-bede-3e5c1ac27449",
   "metadata": {
    "jupyter": {
     "source_hidden": true
    },
    "tags": []
   },
   "outputs": [
    {
     "data": {
      "application/vnd.jupyter.widget-view+json": {
       "model_id": "ce4cd2b697474628af422ffcfecefb6f",
       "version_major": 2,
       "version_minor": 0
      },
      "text/plain": [
       "  0%|          | 0/100000 [00:00<?, ?it/s]"
      ]
     },
     "metadata": {},
     "output_type": "display_data"
    }
   ],
   "source": [
    "#inplementing na li's formulation\n",
    "\n",
    "\n",
    "\n",
    "x_0 = np.random.rand(agent_num, d)\n",
    "\n",
    "#first is gradient Descent\n",
    "iter_num = 100000\n",
    "lr = 0.1\n",
    "time_int = 0.01\n",
    "s = time_int\n",
    "sqrt_s = np.sqrt(s)\n",
    "\n",
    "eta_t = 0.01\n",
    "\n",
    "x_k = np.zeros((agent_num,d))\n",
    "x_k1 = np.zeros((agent_num,d))\n",
    "\n",
    "v_k = np.zeros((agent_num,d))\n",
    "v_k1 = np.zeros((agent_num,d))\n",
    "# x_k2 = np.zeros((agent_num,d))\n",
    "y_k = np.zeros((agent_num,d))\n",
    "y_k1 = np.zeros((agent_num,d))\n",
    "\n",
    "s_k = np.zeros((agent_num,d))\n",
    "s_k1 = np.zeros((agent_num,d))\n",
    "\n",
    "na_x_mean = np.zeros((iter_num,d))\n",
    "na_x_dist = np.zeros((iter_num, agent_num))\n",
    "na_loss_x_global = np.zeros((iter_num, agent_num))\n",
    "\n",
    "alpha_0 = 0.5\n",
    "alpha_k = alpha_0\n",
    "alpha_k1 = (-alpha_k**2 + alpha_k*np.sqrt(alpha_k**2 +4))/2\n",
    "\n",
    "s_k = function_gradient_case_3(x_k, a, b)\n",
    "\n",
    "# x_k = np.copy(x_0)\n",
    "# z_k =  np.copy(x_k)\n",
    "\n",
    "lambda_k = lambda_0\n",
    "for k in tqdm(range( iter_num)):\n",
    "    alpha_k1 = (-alpha_k**2 + alpha_k*np.sqrt(alpha_k**2 +4))/2\n",
    "\n",
    "    # lambda_k1 = (1+np.sqrt(1+ 4*lambda_k**2))/2\n",
    "    # gamma = (1-lambda_k)/(lambda_k1)\n",
    "    # lambda_k = lambda_k1\n",
    "    \n",
    "    \n",
    "    x_k1 = mixing_matrix@y_k - eta_t*s_k\n",
    "    v_k1 = mixing_matrix@v_k - eta_t/alpha_k*s_k\n",
    "    y_k1 = (1 - alpha_k1)*x_k1 + alpha_k1 * v_k1\n",
    "    \n",
    "    gradient_last = function_gradient_case_3(y_k, a, b)\n",
    "    gradient_new = function_gradient_case_3(y_k1, a, b)\n",
    "    \n",
    "    s_k1 = mixing_matrix@s_k + (gradient_new - gradient_last)\n",
    "\n",
    "\n",
    "    s_k = np.copy(s_k1)\n",
    "    x_k = np.copy(x_k1)\n",
    "    y_k = np.copy(y_k1)\n",
    "    v_k = np.copy(v_k1)\n",
    "    alpha_k = alpha_k1\n",
    "    \n",
    "    \n",
    "    \n",
    "    x_bar = np.mean(x_k, axis=0)\n",
    "    na_x_mean[k,:] = x_bar\n",
    "    for agent in range(agent_num):\n",
    "        na_x_dist[k, agent] = np.linalg.norm(x_k[agent,:]-x_bar)\n",
    "        na_loss_x_global[k, agent] = global_function_case_3(x_k[agent,:], a, b)\n",
    "        \n",
    "        \n",
    "        \n",
    "    \n",
    "    "
   ]
  },
  {
   "cell_type": "code",
   "execution_count": 475,
   "id": "dc7d776f-75ad-49d6-a035-ab11c6e6ffc1",
   "metadata": {
    "jupyter": {
     "source_hidden": true
    },
    "tags": []
   },
   "outputs": [
    {
     "data": {
      "application/vnd.jupyter.widget-view+json": {
       "model_id": "906e57eeca6f4bceaf73a32b0b0412b8",
       "version_major": 2,
       "version_minor": 0
      },
      "text/plain": [
       "  0%|          | 0/100000 [00:00<?, ?it/s]"
      ]
     },
     "metadata": {},
     "output_type": "display_data"
    }
   ],
   "source": [
    "#inplementing Lin & Li's formulation\n",
    "\n",
    "\n",
    "\n",
    "x_0 = np.random.rand(agent_num, d)\n",
    "\n",
    "#first is gradient Descent\n",
    "iter_num = 100000\n",
    "lr = 0.1\n",
    "time_int = 0.01\n",
    "s = time_int\n",
    "sqrt_s = np.sqrt(s)\n",
    "\n",
    "eta_t = 0.01\n",
    "\n",
    "x_k = np.zeros((agent_num,d))\n",
    "x_k1 = np.zeros((agent_num,d))\n",
    "\n",
    "z_k = np.zeros((agent_num,d))\n",
    "z_k1 = np.zeros((agent_num,d))\n",
    "# x_k2 = np.zeros((agent_num,d))\n",
    "y_k = np.zeros((agent_num,d))\n",
    "y_k1 = np.zeros((agent_num,d))\n",
    "\n",
    "s_k = np.zeros((agent_num,d))\n",
    "s_k1 = np.zeros((agent_num,d))\n",
    "\n",
    "lin_x_mean = np.zeros((iter_num,d))\n",
    "lin_x_dist = np.zeros((iter_num, agent_num))\n",
    "lin_loss_x_global = np.zeros((iter_num, agent_num))\n",
    "\n",
    "alpha_0 = 0.5\n",
    "alpha_k = alpha_0\n",
    "alpha_k1 = (-alpha_k**2 + alpha_k*np.sqrt(alpha_k**2 +4))/2\n",
    "\n",
    "s_k = function_gradient_case_3(x_k, a, b)\n",
    "\n",
    "# x_k = np.copy(x_0)\n",
    "# z_k =  np.copy(x_k)\n",
    "\n",
    "lambda_k = lambda_0\n",
    "for k in tqdm(range( iter_num)):\n",
    "    alpha_k1 = (-alpha_k**2 + alpha_k*np.sqrt(alpha_k**2 +4))/2\n",
    "\n",
    "    # lambda_k1 = (1+np.sqrt(1+ 4*lambda_k**2))/2\n",
    "    # gamma = (1-lambda_k)/(lambda_k1)\n",
    "    # lambda_k = lambda_k1\n",
    "    \n",
    "    y_k1 = alpha_k* z_k + (1 - alpha_k)*x_k\n",
    "    \n",
    "    gradient_last = function_gradient_case_3(y_k, a, b)\n",
    "    gradient_new = function_gradient_case_3(y_k1, a, b)    \n",
    "    \n",
    "    s_k1 = mixing_matrix@s_k + (gradient_new - gradient_last)\n",
    "    z_k1 = mixing_matrix@z_k - (eta_t/alpha_k)*s_k1\n",
    "    x_k1 = alpha_k * z_k1 + (1 - alpha_k)*mixing_matrix@x_k\n",
    "    \n",
    "#     x_k1 = mixing_matrix@y_k - eta_t*s_k\n",
    "#     v_k1 = mixing_matrix@v_k - eta_t/alpha_k*s_k\n",
    "#     y_k1 = (1 - alpha_k1)*x_k1 + alpha_k1 * v_k1\n",
    "    \n",
    "    alpha_k = alpha_k1\n",
    "    \n",
    "#     s_k1 = mixing_matrix@s_k + (gradient_new - gradient_last)\n",
    "\n",
    "\n",
    "    s_k = np.copy(s_k1)\n",
    "    x_k = np.copy(x_k1)\n",
    "    y_k = np.copy(y_k1)\n",
    "    z_k = np.copy(z_k1)\n",
    "    \n",
    "    \n",
    "    \n",
    "    \n",
    "    x_bar = np.mean(x_k, axis=0)\n",
    "    lin_x_mean[k,:] = x_bar\n",
    "    for agent in range(agent_num):\n",
    "        lin_x_dist[k, agent] = np.linalg.norm(x_k[agent,:]-x_bar)\n",
    "        lin_loss_x_global[k, agent] = global_function_case_3(x_k[agent,:], a, b)\n",
    "        \n",
    "        \n",
    "        \n",
    "    \n",
    "    "
   ]
  },
  {
   "cell_type": "code",
   "execution_count": 476,
   "id": "f91979f8-45d7-49a8-8d6a-96d22ec4abd1",
   "metadata": {
    "jupyter": {
     "source_hidden": true
    },
    "tags": []
   },
   "outputs": [],
   "source": [
    "# print(10*sqrt_s*(1/agent_num)*( 2*z_diff[i,:]-z_diff[(i-1)%agent_num,:] -z_diff[(i+1)%agent_num,:] ) )\n",
    "# print((1 - (3/(k+1)) )*(z_diff[i,:]))\n",
    "\n",
    "# print(s*(lr*gradient_all[i,:] +  y_k[i,:]+ (1/agent_num)*(2*z_k[i,:] - z_k[(i+1)%agent_num,:]+z_k[(i-1)%agent_num,:] )))\n",
    "# print(s*(   (1/agent_num)*(2*z_k[i,:] - z_k[(i+1)%agent_num,:]+z_k[(i-1)%agent_num,:] )))\n",
    "# # print(s*(lr*gradient_all[i,:] +  y_k[i,:]+ (1/agent_num)*(2*z_k[i,:] - z_k[(i+1)%agent_num,:]+z_k[(i-1)%agent_num,:] )))\n",
    "\n",
    "\n"
   ]
  },
  {
   "cell_type": "code",
   "execution_count": 570,
   "id": "ede0a53a-79b8-45ce-a2a4-5c76297daf7f",
   "metadata": {},
   "outputs": [
    {
     "data": {
      "image/png": "[encoded data removed]",
      "text/plain": [
       "<Figure size 432x288 with 1 Axes>"
      ]
     },
     "metadata": {
      "needs_background": "light"
     },
     "output_type": "display_data"
    }
   ],
   "source": [
    "plt.plot((GD_loss_x-loss_star))\n",
    "plt.plot((MD_loss_x-loss_star))\n",
    "plt.plot((CR_loss_x-loss_star))\n",
    "plt.plot((QR_loss_x-loss_star))\n",
    "plt.plot((BR_loss_x-loss_star))\n",
    "plt.plot((BR_BE_loss_x-loss_star))\n",
    "plt.plot((QR_Accel_loss_x-loss_star))\n",
    "# plt.plot(np.linalg.norm(na_x_mean+2, axis = 1))\n",
    "# plt.plot(np.linalg.norm(lin_x_mean+2, axis = 1))\n",
    "# plt.plot(np.linalg.norm(DGD_x_mean+2, axis = 1))\n",
    "plt.ylim(0, 1)\n",
    "plt.xlim(0,100)\n",
    "plt.savefig(\"100d\")"
   ]
  },
  {
   "cell_type": "code",
   "execution_count": 572,
   "id": "68f09cb0-5aa9-42c4-95d2-d90dd2da448a",
   "metadata": {},
   "outputs": [
    {
     "name": "stdout",
     "output_type": "stream",
     "text": [
      "(10000,)\n"
     ]
    },
    {
     "data": {
      "text/plain": [
       "(0.0, 1000.0)"
      ]
     },
     "execution_count": 572,
     "metadata": {},
     "output_type": "execute_result"
    },
    {
     "data": {
      "image/png": "[encoded data removed]",
      "text/plain": [
       "<Figure size 432x288 with 1 Axes>"
      ]
     },
     "metadata": {
      "needs_background": "light"
     },
     "output_type": "display_data"
    }
   ],
   "source": [
    "k_range = np.linspace(0,iter_num, iter_num)\n",
    "print(k_range.shape)\n",
    "\n",
    "plt.plot((k_range+1)**2*(GD_loss_x-loss_star), label=\"gradient\")\n",
    "plt.plot((k_range+1)**2*(MD_loss_x-loss_star), label=\"mirror\")\n",
    "plt.plot((k_range+1)**2*(CR_loss_x-loss_star), label=\"cubic\")\n",
    "plt.plot((k_range+1)**2*(QR_loss_x-loss_star), label=\"quadratic\")\n",
    "plt.plot((k_range+1)**2*(BR_loss_x-loss_star), label=\"bregman\")\n",
    "plt.plot((k_range+1)**2*(BR_BE_loss_x-loss_star), label=\"burg entropy\")\n",
    "plt.plot((k_range+1)**2*(QR_Accel_loss_x-loss_star), label=\"quadratic accelerated\")\n",
    "\n",
    "plt.legend()\n",
    "plt.ylim(0, 100)\n",
    "plt.xlim(0,1000)\n",
    "# plt.savefig(\"100d_k^2\")"
   ]
  },
  {
   "cell_type": "code",
   "execution_count": 576,
   "id": "f859dab8-5fc3-4329-9157-a01b0f206723",
   "metadata": {},
   "outputs": [
    {
     "name": "stdout",
     "output_type": "stream",
     "text": [
      "(10000,)\n"
     ]
    },
    {
     "data": {
      "text/plain": [
       "(0.0, 1000.0)"
      ]
     },
     "execution_count": 576,
     "metadata": {},
     "output_type": "execute_result"
    },
    {
     "data": {
      "image/png": "[encoded data removed]",
      "text/plain": [
       "<Figure size 432x288 with 1 Axes>"
      ]
     },
     "metadata": {
      "needs_background": "light"
     },
     "output_type": "display_data"
    }
   ],
   "source": [
    "k_range = np.linspace(0,iter_num, iter_num)\n",
    "print(k_range.shape)\n",
    "\n",
    "plt.plot((k_range+1)**3*(GD_loss_x-loss_star), label=\"gradient\")\n",
    "plt.plot((k_range+1)**3*(MD_loss_x-loss_star), label=\"mirror\")\n",
    "plt.plot((k_range+1)**3*(CR_loss_x-loss_star), label=\"cubic\")\n",
    "plt.plot((k_range+1)**3*(QR_loss_x-loss_star), label=\"quadratic\")\n",
    "plt.plot((k_range+1)**3*(BR_loss_x-loss_star), label=\"bregman\")\n",
    "plt.plot((k_range+1)**3*(BR_BE_loss_x-loss_star), label=\"burg entropy\")\n",
    "plt.plot((k_range+1)**3*(QR_Accel_loss_x-loss_star), label=\"quadratic accelerated\")\n",
    "\n",
    "plt.legend()\n",
    "plt.ylim(0, 10)\n",
    "plt.xlim(0,1000)\n",
    "# plt.savefig(\"100d_k^2\")"
   ]
  },
  {
   "cell_type": "code",
   "execution_count": 501,
   "id": "f16e612b-8437-466d-aa64-10193f900e36",
   "metadata": {},
   "outputs": [
    {
     "name": "stdout",
     "output_type": "stream",
     "text": [
      "(10000,)\n"
     ]
    },
    {
     "data": {
      "image/png": "[encoded data removed]",
      "text/plain": [
       "<Figure size 432x288 with 1 Axes>"
      ]
     },
     "metadata": {
      "needs_background": "light"
     },
     "output_type": "display_data"
    }
   ],
   "source": []
  },
  {
   "cell_type": "code",
   "execution_count": 575,
   "id": "7002c0cf-39ca-4463-8bcd-47e088e67eb2",
   "metadata": {},
   "outputs": [],
   "source": [
    "loss_star = np.minimum(np.min(BR_loss_x), np.min(QR_loss_x))\n",
    "loss_star = np.minimum(np.min(loss_star), np.min(BR_BE_loss_x))\n",
    "loss_star = np.minimum(np.min(loss_star), np.min(CR_loss_x))\n",
    "loss_star = np.minimum(np.min(loss_star), np.min(QR_Accel_loss_x))"
   ]
  },
  {
   "cell_type": "code",
   "execution_count": 577,
   "id": "8254e623-a87d-4bb0-bb62-c67f4a5226f4",
   "metadata": {},
   "outputs": [
    {
     "data": {
      "image/png": "[encoded data removed]",
      "text/plain": [
       "<Figure size 432x288 with 1 Axes>"
      ]
     },
     "metadata": {
      "needs_background": "light"
     },
     "output_type": "display_data"
    }
   ],
   "source": [
    "plt.plot(np.log(np.maximum(GD_loss_x-loss_star, 1e-30)), label=\"gradient\")\n",
    "plt.plot(np.log(np.maximum(MD_loss_x-loss_star, 1e-30)), label=\"mirror\")\n",
    "plt.plot(np.log(np.maximum(CR_loss_x-loss_star, 1e-30)), label=\"cubic\")\n",
    "plt.plot(np.log(np.maximum(QR_loss_x-loss_star, 1e-30)), label=\"quadratic\")\n",
    "plt.plot(np.log(np.maximum(BR_loss_x-loss_star, 1e-30)), label=\"bregman\")\n",
    "plt.plot(np.log(np.maximum(BR_BE_loss_x-loss_star, 1e-30)), label=\"burg_entropy\")\n",
    "plt.plot(np.log(np.maximum(QR_Accel_loss_x-loss_star, 1e-30)), label=\"quadratic accelerated\")\n",
    "# plt.plot(np.linalg.norm(na_x_mean+2, axis = 1))\n",
    "# plt.plot(np.linalg.norm(lin_x_mean+2, axis = 1))\n",
    "plt.ylim(-15, 0)\n",
    "plt.xlim(0,1000)\n",
    "plt.legend()\n",
    "plt.savefig(\"100d_log\")"
   ]
  },
  {
   "cell_type": "code",
   "execution_count": 505,
   "id": "bc105159-28b6-4a30-b640-ab2d459f8709",
   "metadata": {},
   "outputs": [],
   "source": [
    "np.save(\"a_d100.npy\", a)\n",
    "np.save(\"b_d100.npy\", b)\n",
    "np.save(\"x_star_d100.npy\", x_star)\n",
    "np.save(\"loss_star_d100.npy\", loss_star)\n",
    "np.save(\"GD_d100.npy\", GD_loss_x)\n",
    "np.save(\"MD_d100.npy\", MD_loss_x)\n",
    "np.save(\"QR_d100.npy\", QR_loss_x)\n",
    "np.save(\"CR_d100.npy\", CR_loss_x)\n",
    "np.save(\"BR_d100.npy\", BR_loss_x)\n",
    "# np.save(\"b_d4.npy\", b)\n",
    "# x_star\n"
   ]
  },
  {
   "cell_type": "code",
   "execution_count": 508,
   "id": "7157a24e-bfdf-47df-9668-c233b65667ea",
   "metadata": {
    "tags": []
   },
   "outputs": [
    {
     "name": "stdout",
     "output_type": "stream",
     "text": [
      "[inf nan nan ... nan nan nan]\n"
     ]
    },
    {
     "data": {
      "image/png": "[encoded data removed]",
      "text/plain": [
       "<Figure size 432x288 with 1 Axes>"
      ]
     },
     "metadata": {
      "needs_background": "light"
     },
     "output_type": "display_data"
    }
   ],
   "source": [
    "plt.plot(BR_loss_x)\n",
    "# plt.ylim(0,1e-7)\n",
    "\n",
    "print(BR_loss_x)"
   ]
  },
  {
   "cell_type": "code",
   "execution_count": 551,
   "id": "70334389-c934-4249-88af-a9337d8189c7",
   "metadata": {},
   "outputs": [],
   "source": [
    "GD_time = 4200\n",
    "MD_time = 4100\n",
    "CR_time = 385\n",
    "QR_time = 412\n",
    "BR_time = 372\n",
    "BR_BE_time = 381"
   ]
  },
  {
   "cell_type": "code",
   "execution_count": 555,
   "id": "02e8d6ad-d0b2-45c7-bf87-5ef4b868d8f6",
   "metadata": {},
   "outputs": [
    {
     "data": {
      "image/png": "[encoded data removed]",
      "text/plain": [
       "<Figure size 432x288 with 1 Axes>"
      ]
     },
     "metadata": {
      "needs_background": "light"
     },
     "output_type": "display_data"
    }
   ],
   "source": [
    "k_range = np.linspace(0,iter_num, iter_num)\n",
    "\n",
    "plt.plot(k_range/GD_time, np.log(np.maximum(GD_loss_x-loss_star, 1e-30)), label=\"gradient\")\n",
    "plt.plot(k_range/MD_time, np.log(np.maximum(MD_loss_x-loss_star, 1e-30)), label=\"mirror\")\n",
    "plt.plot(k_range/CR_time, np.log(np.maximum(CR_loss_x-loss_star, 1e-30)), label=\"cubic\")\n",
    "plt.plot(k_range/QR_time, np.log(np.maximum(QR_loss_x-loss_star, 1e-30)), label=\"quadratic\")\n",
    "plt.plot(k_range/BR_time, np.log(np.maximum(BR_loss_x-loss_star, 1e-30)), label=\"bregman\")\n",
    "plt.plot(k_range/BR_BE_time, np.log(np.maximum(BR_BE_loss_x-loss_star, 1e-30)), label=\"burg_entropy\")\n",
    "# plt.plot(np.linalg.norm(na_x_mean+2, axis = 1))\n",
    "# plt.plot(np.linalg.norm(lin_x_mean+2, axis = 1))\n",
    "plt.ylim(-15, 0)\n",
    "plt.xlim(0,10)\n",
    "plt.legend()\n",
    "plt.savefig(\"100d_CPU_time\")"
   ]
  },
  {
   "cell_type": "code",
   "execution_count": 560,
   "id": "81a10016-d7dc-464e-be00-63ecb6cbba6e",
   "metadata": {},
   "outputs": [
    {
     "data": {
      "image/png": "[encoded data removed]",
      "text/plain": [
       "<Figure size 432x288 with 1 Axes>"
      ]
     },
     "metadata": {
      "needs_background": "light"
     },
     "output_type": "display_data"
    }
   ],
   "source": [
    "mtds = ['gradient', 'mirror', 'cubic', 'quadratic', 'bregman', 'burg_entropy']\n",
    "speed = [GD_time, MD_time, CR_time, QR_time, BR_time, BR_BE_time]\n",
    "\n",
    "plt.bar_label(plt.bar(mtds,speed))\n",
    "plt.savefig(\"100d_speed\")"
   ]
  },
  {
   "cell_type": "code",
   "execution_count": 342,
   "id": "4f04fda9-1d4a-4236-8141-92073721409f",
   "metadata": {},
   "outputs": [
    {
     "data": {
      "text/plain": [
       "[<matplotlib.lines.Line2D at 0x7f8c32097d30>]"
      ]
     },
     "execution_count": 342,
     "metadata": {},
     "output_type": "execute_result"
    },
    {
     "data": {
      "image/png": "[encoded data removed]",
      "text/plain": [
       "<Figure size 432x288 with 1 Axes>"
      ]
     },
     "metadata": {
      "needs_background": "light"
     },
     "output_type": "display_data"
    }
   ],
   "source": [
    "plt.plot(np.log(np.abs(loss_x_global[:,3]-loss_star)))\n",
    "plt.plot(np.log(np.abs(DGD_loss_x_global[:,3]-loss_star)))"
   ]
  },
  {
   "cell_type": "code",
   "execution_count": 255,
   "id": "429e5294-6558-4cac-baf8-27e4ddc4a891",
   "metadata": {},
   "outputs": [
    {
     "name": "stdout",
     "output_type": "stream",
     "text": [
      "1.0663762857743286e-07\n"
     ]
    }
   ],
   "source": [
    "print(np.min(loss_x_global))"
   ]
  },
  {
   "cell_type": "code",
   "execution_count": 430,
   "id": "4659dbef-dd08-4143-9750-d0792db679df",
   "metadata": {},
   "outputs": [
    {
     "data": {
      "text/plain": [
       "(0.0, 5.0)"
      ]
     },
     "execution_count": 430,
     "metadata": {},
     "output_type": "execute_result"
    },
    {
     "data": {
      "image/png": "[encoded data removed]",
      "text/plain": [
       "<Figure size 432x288 with 1 Axes>"
      ]
     },
     "metadata": {
      "needs_background": "light"
     },
     "output_type": "display_data"
    }
   ],
   "source": [
    "section_size =500000000\n",
    "plt.plot(((k_range[0:section_size]+1)**2 *(loss_x_global[:section_size,3]-loss_star)))\n",
    "plt.ylim(0,5)"
   ]
  },
  {
   "cell_type": "code",
   "execution_count": 227,
   "id": "3281b3c4-1b24-45ad-adb4-105ac88758cb",
   "metadata": {},
   "outputs": [
    {
     "name": "stdout",
     "output_type": "stream",
     "text": [
      "[[ 0.03847775 -0.29119031 -0.21288476 -0.25448257]\n",
      " [ 0.03847775 -0.2911902  -0.21288475 -0.25448286]\n",
      " [ 0.03847789 -0.29119013 -0.2128848  -0.25448306]\n",
      " [ 0.0384781  -0.29119011 -0.2128849  -0.25448309]\n",
      " [ 0.03847831 -0.29119016 -0.212885   -0.25448293]\n",
      " [ 0.03847845 -0.29119027 -0.21288508 -0.25448264]\n",
      " [ 0.03847844 -0.29119037 -0.21288509 -0.25448235]\n",
      " [ 0.03847831 -0.29119044 -0.21288504 -0.25448216]\n",
      " [ 0.03847809 -0.29119046 -0.21288494 -0.25448214]\n",
      " [ 0.03847788 -0.29119041 -0.21288483 -0.25448229]]\n"
     ]
    }
   ],
   "source": [
    "print(x_k)"
   ]
  },
  {
   "cell_type": "code",
   "execution_count": null,
   "id": "9225ba24-a9b6-40c6-b45f-053fd02200d0",
   "metadata": {},
   "outputs": [],
   "source": []
  }
 ],
 "metadata": {
  "kernelspec": {
   "display_name": "Python 3 (ipykernel)",
   "language": "python",
   "name": "python3"
  },
  "language_info": {
   "codemirror_mode": {
    "name": "ipython",
    "version": 3
   },
   "file_extension": ".py",
   "mimetype": "text/x-python",
   "name": "python",
   "nbconvert_exporter": "python",
   "pygments_lexer": "ipython3",
   "version": "3.9.7"
  }
 },
 "nbformat": 4,
 "nbformat_minor": 5
}
